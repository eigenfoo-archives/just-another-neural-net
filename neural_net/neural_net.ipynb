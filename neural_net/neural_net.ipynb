{
 "cells": [
  {
   "cell_type": "markdown",
   "metadata": {},
   "source": [
    "# AI Assignment 2: Neural Network"
   ]
  },
  {
   "cell_type": "code",
   "execution_count": 1,
   "metadata": {
    "collapsed": true
   },
   "outputs": [],
   "source": [
    "import numpy as np\n",
    "from decimal import Decimal, ROUND_HALF_UP"
   ]
  },
  {
   "cell_type": "code",
   "execution_count": 2,
   "metadata": {
    "collapsed": true
   },
   "outputs": [],
   "source": [
    "def sigmoid(z):\n",
    "    '''The sigmoid function'''\n",
    "    return 1.0 / (1.0 + np.exp(-z))\n",
    "\n",
    "def sigmoid_prime(z):\n",
    "    '''Derivative of the sigmoid function'''\n",
    "    return sigmoid(z) * (1-sigmoid(z))"
   ]
  },
  {
   "cell_type": "code",
   "execution_count": 3,
   "metadata": {
    "collapsed": true
   },
   "outputs": [],
   "source": [
    "def read_neural_net_file(nn_filename):\n",
    "    with open(nn_filename) as f:\n",
    "        line = f.readline()\n",
    "        nums = [int(num) for num in line.split()]\n",
    "        Ni, Nh, No = nums\n",
    "\n",
    "        w1 = np.zeros([Nh, Ni+1])\n",
    "        for i in range(Nh):\n",
    "            line = f.readline()\n",
    "            nums = [float(num) for num in line.split()]\n",
    "            w1[i, :] = nums\n",
    "\n",
    "        w2 = np.zeros([No, Nh+1])\n",
    "        for i in range(No):\n",
    "            line = f.readline()\n",
    "            nums = [float(num) for num in line.split()]\n",
    "            w2[i, :] = nums\n",
    "\n",
    "    return Ni, Nh, No, [w1, w2]"
   ]
  },
  {
   "cell_type": "code",
   "execution_count": 9,
   "metadata": {
    "collapsed": true
   },
   "outputs": [],
   "source": [
    "def read_data_file(train_filename):\n",
    "    with open(train_filename) as f:\n",
    "        line = f.readline()\n",
    "        nums = [int(num) for num in line.split()]\n",
    "        num_obs, Ni, No = nums\n",
    "\n",
    "        inputs = np.zeros([num_obs, Ni])\n",
    "        outputs = np.zeros([num_obs, No])\n",
    "\n",
    "        for i in range(num_obs):\n",
    "            line = f.readline()\n",
    "            nums = [float(num) for num in line.split()]\n",
    "            inputs[i, :] = nums[:Ni]\n",
    "            outputs[i, :] = nums[Ni:]\n",
    "            \n",
    "    return list(zip(inputs, outputs))"
   ]
  },
  {
   "cell_type": "code",
   "execution_count": 31,
   "metadata": {
    "collapsed": true
   },
   "outputs": [],
   "source": [
    "def train(self, training_data, learning_rate, epochs):\n",
    "    for _ in range(epochs):\n",
    "        for x, y in training_data:\n",
    "            # Propagate inputs forward to compute outputs\n",
    "            act = x\n",
    "            acts = [x]\n",
    "            zs = []\n",
    "            for w in self.weights:\n",
    "                z = (w @ act)\n",
    "                zs.append(z)\n",
    "                act = sigmoid(z)\n",
    "                acts.append(act)\n",
    "        \n",
    "            # Propagate deltas backward from output layer to input layer\n",
    "            nabla_b = [np.zeros(b.shape) for b in self.biases]\n",
    "            nabla_w = [np.zeros(w.shape) for w in self.weights]            \n",
    "            \n",
    "            delta = sigmoid_prime(zs[-1]) * (y - acts[-1])\n",
    "\n",
    "            # Update weights and biases using deltas\n",
    "            self.weights = [w + learning_rate*nw\n",
    "                            for w, nw in zip(self.weights, nabla_w)]\n",
    "            self.biases = [b + learning_rate*nb\n",
    "                           for b, nb in zip(self.biases, nabla_b)]"
   ]
  },
  {
   "cell_type": "code",
   "execution_count": null,
   "metadata": {
    "collapsed": true
   },
   "outputs": [],
   "source": []
  },
  {
   "cell_type": "code",
   "execution_count": 60,
   "metadata": {
    "collapsed": true
   },
   "outputs": [],
   "source": [
    "x, y = training_data[0]"
   ]
  },
  {
   "cell_type": "code",
   "execution_count": 66,
   "metadata": {},
   "outputs": [
    {
     "data": {
      "text/plain": [
       "[(5, 31), (1, 6)]"
      ]
     },
     "execution_count": 66,
     "metadata": {},
     "output_type": "execute_result"
    }
   ],
   "source": [
    "[weights[i].shape for i in range(len(weights))]"
   ]
  },
  {
   "cell_type": "code",
   "execution_count": 61,
   "metadata": {},
   "outputs": [
    {
     "ename": "ValueError",
     "evalue": "shapes (5,31) and (32,) not aligned: 31 (dim 1) != 32 (dim 0)",
     "output_type": "error",
     "traceback": [
      "\u001b[0;31m---------------------------------------------------------------------------\u001b[0m",
      "\u001b[0;31mValueError\u001b[0m                                Traceback (most recent call last)",
      "\u001b[0;32m<ipython-input-61-064ee52dc769>\u001b[0m in \u001b[0;36m<module>\u001b[0;34m()\u001b[0m\n\u001b[1;32m      4\u001b[0m \u001b[0mzs\u001b[0m \u001b[0;34m=\u001b[0m \u001b[0;34m[\u001b[0m\u001b[0;34m]\u001b[0m\u001b[0;34m\u001b[0m\u001b[0m\n\u001b[1;32m      5\u001b[0m \u001b[0;32mfor\u001b[0m \u001b[0mw\u001b[0m \u001b[0;32min\u001b[0m \u001b[0mweights\u001b[0m\u001b[0;34m:\u001b[0m\u001b[0;34m\u001b[0m\u001b[0m\n\u001b[0;32m----> 6\u001b[0;31m     \u001b[0mz\u001b[0m \u001b[0;34m=\u001b[0m \u001b[0mnp\u001b[0m\u001b[0;34m.\u001b[0m\u001b[0mdot\u001b[0m\u001b[0;34m(\u001b[0m\u001b[0mw\u001b[0m\u001b[0;34m,\u001b[0m \u001b[0mnp\u001b[0m\u001b[0;34m.\u001b[0m\u001b[0minsert\u001b[0m\u001b[0;34m(\u001b[0m\u001b[0mact\u001b[0m\u001b[0;34m,\u001b[0m \u001b[0;36m0\u001b[0m\u001b[0;34m,\u001b[0m \u001b[0;34m-\u001b[0m\u001b[0;36m1\u001b[0m\u001b[0;34m)\u001b[0m\u001b[0;34m)\u001b[0m\u001b[0;34m\u001b[0m\u001b[0m\n\u001b[0m\u001b[1;32m      7\u001b[0m     \u001b[0mzs\u001b[0m\u001b[0;34m.\u001b[0m\u001b[0mappend\u001b[0m\u001b[0;34m(\u001b[0m\u001b[0mz\u001b[0m\u001b[0;34m)\u001b[0m\u001b[0;34m\u001b[0m\u001b[0m\n\u001b[1;32m      8\u001b[0m     \u001b[0mact\u001b[0m \u001b[0;34m=\u001b[0m \u001b[0msigmoid\u001b[0m\u001b[0;34m(\u001b[0m\u001b[0mz\u001b[0m\u001b[0;34m)\u001b[0m\u001b[0;34m\u001b[0m\u001b[0m\n",
      "\u001b[0;31mValueError\u001b[0m: shapes (5,31) and (32,) not aligned: 31 (dim 1) != 32 (dim 0)"
     ]
    }
   ],
   "source": [
    "# Propagate inputs forward to compute outputs\n",
    "act = np.insert(x, 0, -1)\n",
    "acts = [x]\n",
    "zs = []\n",
    "for w in weights:\n",
    "    z = np.dot(w, np.insert(act, 0, -1))\n",
    "    zs.append(z)\n",
    "    act = sigmoid(z)\n",
    "    acts.append(act)"
   ]
  },
  {
   "cell_type": "code",
   "execution_count": 62,
   "metadata": {},
   "outputs": [
    {
     "data": {
      "text/plain": [
       "(31,)"
      ]
     },
     "execution_count": 62,
     "metadata": {},
     "output_type": "execute_result"
    }
   ],
   "source": [
    "act.shape"
   ]
  },
  {
   "cell_type": "code",
   "execution_count": 63,
   "metadata": {},
   "outputs": [
    {
     "data": {
      "text/plain": [
       "(5, 31)"
      ]
     },
     "execution_count": 63,
     "metadata": {},
     "output_type": "execute_result"
    }
   ],
   "source": [
    "w.shape"
   ]
  },
  {
   "cell_type": "code",
   "execution_count": null,
   "metadata": {
    "collapsed": true
   },
   "outputs": [],
   "source": [
    "# Propagate deltas backward from output layer to input layer\n",
    "nabla_b = [np.zeros(b.shape) for b in self.biases]\n",
    "nabla_w = [np.zeros(w.shape) for w in self.weights]            \n",
    "\n",
    "delta = sigmoid_prime(zs[-1]) * (y - acts[-1])"
   ]
  },
  {
   "cell_type": "code",
   "execution_count": null,
   "metadata": {
    "collapsed": true
   },
   "outputs": [],
   "source": [
    "# Update weights and biases using deltas\n",
    "self.weights = [w + learning_rate*nw\n",
    "                for w, nw in zip(self.weights, nabla_w)]\n",
    "self.biases = [b + learning_rate*nb\n",
    "               for b, nb in zip(self.biases, nabla_b)]"
   ]
  }
 ],
 "metadata": {
  "kernelspec": {
   "display_name": "Python 3",
   "language": "python",
   "name": "python3"
  },
  "language_info": {
   "codemirror_mode": {
    "name": "ipython",
    "version": 3
   },
   "file_extension": ".py",
   "mimetype": "text/x-python",
   "name": "python",
   "nbconvert_exporter": "python",
   "pygments_lexer": "ipython3",
   "version": "3.6.1"
  }
 },
 "nbformat": 4,
 "nbformat_minor": 2
}
