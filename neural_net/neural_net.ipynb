{
 "cells": [
  {
   "cell_type": "markdown",
   "metadata": {},
   "source": [
    "# AI Assignment 2: Neural Network"
   ]
  },
  {
   "cell_type": "code",
   "execution_count": 5,
   "metadata": {
    "collapsed": true
   },
   "outputs": [],
   "source": [
    "import numpy as np\n",
    "from decimal import Decimal, ROUND_HALF_UP"
   ]
  },
  {
   "cell_type": "code",
   "execution_count": 2,
   "metadata": {
    "collapsed": true
   },
   "outputs": [],
   "source": [
    "def sigmoid(z):\n",
    "    '''The sigmoid function'''\n",
    "    return 1.0 / (1.0 + np.exp(-z))\n",
    "\n",
    "def sigmoid_prime(z):\n",
    "    '''Derivative of the sigmoid function'''\n",
    "    return sigmoid(z) * (1-sigmoid(z))"
   ]
  },
  {
   "cell_type": "code",
   "execution_count": 3,
   "metadata": {
    "collapsed": true
   },
   "outputs": [],
   "source": [
    "def read_neural_net_file(nn_filename):\n",
    "    with open(nn_filename) as f:\n",
    "        line = f.readline()\n",
    "        nums = [int(num) for num in line.split()]\n",
    "        Ni, Nh, No = nums\n",
    "\n",
    "        w1 = np.zeros([Nh, Ni+1])\n",
    "        for i in range(Nh):\n",
    "            line = f.readline()\n",
    "            nums = [float(num) for num in line.split()]\n",
    "            w1[i, :] = nums\n",
    "\n",
    "        w2 = np.zeros([No, Nh+1])\n",
    "        for i in range(No):\n",
    "            line = f.readline()\n",
    "            nums = [float(num) for num in line.split()]\n",
    "            w2[i, :] = nums\n",
    "\n",
    "    return Ni, Nh, No, [w1, w2]"
   ]
  },
  {
   "cell_type": "code",
   "execution_count": 4,
   "metadata": {
    "collapsed": true
   },
   "outputs": [],
   "source": [
    "def read_data_file(train_filename):\n",
    "    with open(train_filename) as f:\n",
    "        line = f.readline()\n",
    "        nums = [int(num) for num in line.split()]\n",
    "        num_obs, Ni, No = nums\n",
    "\n",
    "        inputs = np.zeros([num_obs, Ni])\n",
    "        outputs = np.zeros([num_obs, No])\n",
    "\n",
    "        for i in range(num_obs):\n",
    "            line = f.readline()\n",
    "            nums = [float(num) for num in line.split()]\n",
    "            inputs[i, :] = nums[:Ni]\n",
    "            outputs[i, :] = nums[Ni:]\n",
    "            \n",
    "    return list(zip(inputs, outputs))"
   ]
  },
  {
   "cell_type": "code",
   "execution_count": null,
   "metadata": {
    "collapsed": true
   },
   "outputs": [],
   "source": []
  },
  {
   "cell_type": "code",
   "execution_count": null,
   "metadata": {
    "collapsed": true
   },
   "outputs": [],
   "source": []
  },
  {
   "cell_type": "code",
   "execution_count": null,
   "metadata": {
    "collapsed": true
   },
   "outputs": [],
   "source": []
  },
  {
   "cell_type": "code",
   "execution_count": 31,
   "metadata": {
    "collapsed": true
   },
   "outputs": [],
   "source": [
    "def train(self, training_data, learning_rate, epochs):\n",
    "    for _ in range(epochs):\n",
    "        for x, y in training_data:\n",
    "            # Propagate inputs forward to compute outputs\n",
    "            act = x\n",
    "            acts = [x]\n",
    "            zs = []\n",
    "            for w in self.weights:\n",
    "                z = (w @ act)\n",
    "                zs.append(z)\n",
    "                act = sigmoid(z)\n",
    "                acts.append(act)\n",
    "        \n",
    "            # Propagate deltas backward from output layer to input layer\n",
    "            nabla_b = [np.zeros(b.shape) for b in self.biases]\n",
    "            nabla_w = [np.zeros(w.shape) for w in self.weights]            \n",
    "            \n",
    "            delta = sigmoid_prime(zs[-1]) * (y - acts[-1])\n",
    "\n",
    "            # Update weights and biases using deltas\n",
    "            self.weights = [w + learning_rate*nw\n",
    "                            for w, nw in zip(self.weights, nabla_w)]\n",
    "            self.biases = [b + learning_rate*nb\n",
    "                           for b, nb in zip(self.biases, nabla_b)]"
   ]
  },
  {
   "cell_type": "code",
   "execution_count": null,
   "metadata": {
    "collapsed": true
   },
   "outputs": [],
   "source": []
  },
  {
   "cell_type": "code",
   "execution_count": 60,
   "metadata": {
    "collapsed": true
   },
   "outputs": [],
   "source": [
    "x, y = training_data[0]"
   ]
  },
  {
   "cell_type": "code",
   "execution_count": 66,
   "metadata": {},
   "outputs": [
    {
     "data": {
      "text/plain": [
       "[(5, 31), (1, 6)]"
      ]
     },
     "execution_count": 66,
     "metadata": {},
     "output_type": "execute_result"
    }
   ],
   "source": [
    "[weights[i].shape for i in range(len(weights))]"
   ]
  },
  {
   "cell_type": "code",
   "execution_count": 61,
   "metadata": {},
   "outputs": [
    {
     "ename": "ValueError",
     "evalue": "shapes (5,31) and (32,) not aligned: 31 (dim 1) != 32 (dim 0)",
     "output_type": "error",
     "traceback": [
      "\u001b[0;31m---------------------------------------------------------------------------\u001b[0m",
      "\u001b[0;31mValueError\u001b[0m                                Traceback (most recent call last)",
      "\u001b[0;32m<ipython-input-61-064ee52dc769>\u001b[0m in \u001b[0;36m<module>\u001b[0;34m()\u001b[0m\n\u001b[1;32m      4\u001b[0m \u001b[0mzs\u001b[0m \u001b[0;34m=\u001b[0m \u001b[0;34m[\u001b[0m\u001b[0;34m]\u001b[0m\u001b[0;34m\u001b[0m\u001b[0m\n\u001b[1;32m      5\u001b[0m \u001b[0;32mfor\u001b[0m \u001b[0mw\u001b[0m \u001b[0;32min\u001b[0m \u001b[0mweights\u001b[0m\u001b[0;34m:\u001b[0m\u001b[0;34m\u001b[0m\u001b[0m\n\u001b[0;32m----> 6\u001b[0;31m     \u001b[0mz\u001b[0m \u001b[0;34m=\u001b[0m \u001b[0mnp\u001b[0m\u001b[0;34m.\u001b[0m\u001b[0mdot\u001b[0m\u001b[0;34m(\u001b[0m\u001b[0mw\u001b[0m\u001b[0;34m,\u001b[0m \u001b[0mnp\u001b[0m\u001b[0;34m.\u001b[0m\u001b[0minsert\u001b[0m\u001b[0;34m(\u001b[0m\u001b[0mact\u001b[0m\u001b[0;34m,\u001b[0m \u001b[0;36m0\u001b[0m\u001b[0;34m,\u001b[0m \u001b[0;34m-\u001b[0m\u001b[0;36m1\u001b[0m\u001b[0;34m)\u001b[0m\u001b[0;34m)\u001b[0m\u001b[0;34m\u001b[0m\u001b[0m\n\u001b[0m\u001b[1;32m      7\u001b[0m     \u001b[0mzs\u001b[0m\u001b[0;34m.\u001b[0m\u001b[0mappend\u001b[0m\u001b[0;34m(\u001b[0m\u001b[0mz\u001b[0m\u001b[0;34m)\u001b[0m\u001b[0;34m\u001b[0m\u001b[0m\n\u001b[1;32m      8\u001b[0m     \u001b[0mact\u001b[0m \u001b[0;34m=\u001b[0m \u001b[0msigmoid\u001b[0m\u001b[0;34m(\u001b[0m\u001b[0mz\u001b[0m\u001b[0;34m)\u001b[0m\u001b[0;34m\u001b[0m\u001b[0m\n",
      "\u001b[0;31mValueError\u001b[0m: shapes (5,31) and (32,) not aligned: 31 (dim 1) != 32 (dim 0)"
     ]
    }
   ],
   "source": [
    "# Propagate inputs forward to compute outputs\n",
    "act = np.insert(x, 0, -1)\n",
    "acts = [x]\n",
    "zs = []\n",
    "for w in weights:\n",
    "    z = np.dot(w, np.insert(act, 0, -1))\n",
    "    zs.append(z)\n",
    "    act = sigmoid(z)\n",
    "    acts.append(act)"
   ]
  },
  {
   "cell_type": "code",
   "execution_count": 62,
   "metadata": {},
   "outputs": [
    {
     "data": {
      "text/plain": [
       "(31,)"
      ]
     },
     "execution_count": 62,
     "metadata": {},
     "output_type": "execute_result"
    }
   ],
   "source": [
    "act.shape"
   ]
  },
  {
   "cell_type": "code",
   "execution_count": 63,
   "metadata": {},
   "outputs": [
    {
     "data": {
      "text/plain": [
       "(5, 31)"
      ]
     },
     "execution_count": 63,
     "metadata": {},
     "output_type": "execute_result"
    }
   ],
   "source": [
    "w.shape"
   ]
  },
  {
   "cell_type": "code",
   "execution_count": null,
   "metadata": {
    "collapsed": true
   },
   "outputs": [],
   "source": [
    "# Propagate deltas backward from output layer to input layer\n",
    "nabla_b = [np.zeros(b.shape) for b in self.biases]\n",
    "nabla_w = [np.zeros(w.shape) for w in self.weights]            \n",
    "\n",
    "delta = sigmoid_prime(zs[-1]) * (y - acts[-1])"
   ]
  },
  {
   "cell_type": "code",
   "execution_count": null,
   "metadata": {
    "collapsed": true
   },
   "outputs": [],
   "source": [
    "# Update weights and biases using deltas\n",
    "self.weights = [w + learning_rate*nw\n",
    "                for w, nw in zip(self.weights, nabla_w)]\n",
    "self.biases = [b + learning_rate*nb\n",
    "               for b, nb in zip(self.biases, nabla_b)]"
   ]
  },
  {
   "cell_type": "code",
   "execution_count": null,
   "metadata": {
    "collapsed": true
   },
   "outputs": [],
   "source": []
  },
  {
   "cell_type": "code",
   "execution_count": null,
   "metadata": {
    "collapsed": true
   },
   "outputs": [],
   "source": []
  },
  {
   "cell_type": "code",
   "execution_count": 38,
   "metadata": {
    "collapsed": true
   },
   "outputs": [],
   "source": [
    "asdf = [1,2,3,4,5.1]"
   ]
  },
  {
   "cell_type": "code",
   "execution_count": 39,
   "metadata": {},
   "outputs": [
    {
     "data": {
      "text/plain": [
       "3.02"
      ]
     },
     "execution_count": 39,
     "metadata": {},
     "output_type": "execute_result"
    }
   ],
   "source": [
    "sum(asdf) / len(asdf)"
   ]
  },
  {
   "cell_type": "code",
   "execution_count": 9,
   "metadata": {
    "collapsed": true
   },
   "outputs": [],
   "source": [
    "confusion = np.ones([4, 2, 2])"
   ]
  },
  {
   "cell_type": "code",
   "execution_count": 33,
   "metadata": {},
   "outputs": [
    {
     "data": {
      "text/plain": [
       "array([[ 1.,  2.],\n",
       "       [ 3.,  4.]])"
      ]
     },
     "execution_count": 33,
     "metadata": {},
     "output_type": "execute_result"
    }
   ],
   "source": [
    "confusion[0]"
   ]
  },
  {
   "cell_type": "code",
   "execution_count": 32,
   "metadata": {},
   "outputs": [
    {
     "data": {
      "text/plain": [
       "array([[ 4.,  5.],\n",
       "       [ 6.,  7.]])"
      ]
     },
     "execution_count": 32,
     "metadata": {},
     "output_type": "execute_result"
    }
   ],
   "source": [
    "confusion.sum(axis=0)"
   ]
  },
  {
   "cell_type": "code",
   "execution_count": 27,
   "metadata": {},
   "outputs": [
    {
     "data": {
      "text/plain": [
       "array([ 1.,  2.,  3.,  4.,  1.,  2.])"
      ]
     },
     "execution_count": 27,
     "metadata": {},
     "output_type": "execute_result"
    }
   ],
   "source": [
    "np.append(confusion[0].flatten(), [1, 2])"
   ]
  },
  {
   "cell_type": "code",
   "execution_count": null,
   "metadata": {
    "collapsed": true
   },
   "outputs": [],
   "source": []
  },
  {
   "cell_type": "code",
   "execution_count": null,
   "metadata": {
    "collapsed": true
   },
   "outputs": [],
   "source": []
  },
  {
   "cell_type": "code",
   "execution_count": 7,
   "metadata": {},
   "outputs": [
    {
     "data": {
      "text/plain": [
       "[(array([ 0.6 ,  0.51,  0.66,  0.63,  0.68]), array([ 1.,  0.,  0.,  0.])),\n",
       " (array([ 0.82,  0.97,  0.89,  0.8 ,  0.85]), array([ 1.,  1.,  1.,  0.])),\n",
       " (array([ 0.89,  0.98,  0.81,  0.92,  0.82]), array([ 1.,  1.,  1.,  0.])),\n",
       " (array([ 1.  ,  0.85,  0.8 ,  0.86,  0.91]), array([ 1.,  1.,  1.,  0.])),\n",
       " (array([ 0.83,  0.97,  0.94,  0.84,  0.8 ]), array([ 1.,  1.,  1.,  0.])),\n",
       " (array([ 0.79,  0.87,  0.64,  0.79,  0.88]), array([ 1.,  1.,  0.,  0.])),\n",
       " (array([ 0.81,  0.95,  0.94,  0.85,  0.97]), array([ 1.,  1.,  1.,  1.])),\n",
       " (array([ 0.75,  0.98,  0.58,  0.75,  0.59]), array([ 1.,  1.,  0.,  0.])),\n",
       " (array([ 0.87,  0.91,  0.95,  0.88,  0.98]), array([ 1.,  1.,  1.,  1.])),\n",
       " (array([ 0.91,  0.97,  0.99,  0.99,  0.85]), array([ 1.,  1.,  1.,  1.])),\n",
       " (array([ 0.74,  0.69,  0.9 ,  0.78,  0.99]), array([ 1.,  1.,  1.,  0.])),\n",
       " (array([ 0.57,  0.68,  0.72,  0.59,  0.74]), array([ 1.,  0.,  0.,  0.])),\n",
       " (array([ 0.67,  0.84,  0.67,  0.7 ,  0.5 ]), array([ 1.,  0.,  0.,  0.])),\n",
       " (array([ 0.98,  0.86,  0.98,  0.91,  0.8 ]), array([ 1.,  1.,  1.,  1.])),\n",
       " (array([ 0.68,  0.76,  0.97,  0.64,  0.68]), array([ 1.,  1.,  0.,  0.])),\n",
       " (array([ 0.72,  0.69,  0.5 ,  0.55,  0.58]), array([ 1.,  0.,  0.,  0.])),\n",
       " (array([ 0.59,  0.63,  0.62,  0.74,  0.72]), array([ 1.,  0.,  0.,  0.])),\n",
       " (array([ 0.72,  0.84,  0.72,  0.98,  0.52]), array([ 1.,  1.,  0.,  0.])),\n",
       " (array([ 0.93,  0.9 ,  0.82,  0.88,  0.93]), array([ 1.,  1.,  1.,  0.])),\n",
       " (array([ 0.86,  0.96,  0.67,  0.72,  0.62]), array([ 1.,  1.,  0.,  0.])),\n",
       " (array([ 0.71,  0.68,  0.53,  0.98,  0.74]), array([ 1.,  1.,  0.,  0.])),\n",
       " (array([ 1.  ,  1.  ,  0.85,  0.81,  0.85]), array([ 1.,  1.,  1.,  1.])),\n",
       " (array([ 0.57,  0.58,  0.58,  0.55,  0.54]), array([ 0.,  0.,  0.,  0.])),\n",
       " (array([ 0.83,  0.56,  0.59,  0.59,  0.77]), array([ 1.,  0.,  0.,  0.])),\n",
       " (array([ 0.7 ,  0.7 ,  0.7 ,  0.84,  0.57]), array([ 1.,  1.,  0.,  0.])),\n",
       " (array([ 0.75,  0.74,  0.55,  0.59,  0.68]), array([ 1.,  0.,  0.,  0.])),\n",
       " (array([ 0.54,  0.71,  0.53,  0.58,  0.61]), array([ 0.,  0.,  0.,  0.])),\n",
       " (array([ 0.63,  0.71,  0.93,  0.63,  0.61]), array([ 1.,  1.,  0.,  0.])),\n",
       " (array([ 0.7 ,  0.75,  0.8 ,  0.63,  0.63]), array([ 1.,  1.,  0.,  0.])),\n",
       " (array([ 0.81,  0.88,  0.84,  0.91,  0.98]), array([ 1.,  1.,  1.,  0.])),\n",
       " (array([ 1.  ,  0.88,  0.94,  0.8 ,  0.82]), array([ 1.,  1.,  1.,  0.])),\n",
       " (array([ 0.87,  0.84,  0.84,  0.98,  0.95]), array([ 1.,  1.,  1.,  0.])),\n",
       " (array([ 0.67,  0.55,  0.58,  0.64,  0.52]), array([ 0.,  0.,  0.,  0.])),\n",
       " (array([ 0.94,  0.8 ,  0.81,  0.98,  0.92]), array([ 1.,  1.,  1.,  0.])),\n",
       " (array([ 0.97,  0.88,  0.82,  0.95,  1.  ]), array([ 1.,  1.,  1.,  1.])),\n",
       " (array([ 0.87,  0.92,  0.86,  0.91,  0.84]), array([ 1.,  1.,  1.,  0.])),\n",
       " (array([ 0.83,  0.98,  1.  ,  0.86,  0.88]), array([ 1.,  1.,  1.,  1.])),\n",
       " (array([ 0.54,  0.74,  0.58,  0.56,  0.61]), array([ 1.,  0.,  0.,  0.])),\n",
       " (array([ 0.83,  0.85,  0.87,  0.97,  0.96]), array([ 1.,  1.,  1.,  0.])),\n",
       " (array([ 0.64,  0.75,  0.7 ,  0.66,  0.66]), array([ 1.,  0.,  0.,  0.])),\n",
       " (array([ 0.71,  0.73,  0.61,  0.63,  0.72]), array([ 1.,  0.,  0.,  0.])),\n",
       " (array([ 0.84,  0.58,  0.62,  0.72,  0.58]), array([ 1.,  0.,  0.,  0.])),\n",
       " (array([ 0.68,  0.86,  0.7 ,  0.67,  0.7 ]), array([ 1.,  1.,  0.,  0.])),\n",
       " (array([ 0.81,  0.99,  0.88,  0.93,  0.92]), array([ 1.,  1.,  1.,  1.])),\n",
       " (array([ 0.94,  0.86,  0.99,  0.88,  0.88]), array([ 1.,  1.,  1.,  1.])),\n",
       " (array([ 0.96,  0.77,  0.78,  0.89,  0.6 ]), array([ 1.,  1.,  1.,  0.])),\n",
       " (array([ 0.54,  0.65,  0.51,  0.67,  0.6 ]), array([ 0.,  0.,  0.,  0.])),\n",
       " (array([ 0.91,  1.  ,  0.94,  0.92,  0.93]), array([ 1.,  1.,  1.,  1.])),\n",
       " (array([ 0.86,  0.92,  0.89,  0.94,  0.88]), array([ 1.,  1.,  1.,  0.])),\n",
       " (array([ 0.94,  0.92,  0.73,  0.77,  0.84]), array([ 1.,  1.,  1.,  0.])),\n",
       " (array([ 0.67,  0.6 ,  0.72,  0.59,  0.63]), array([ 1.,  0.,  0.,  0.])),\n",
       " (array([ 0.75,  0.97,  0.63,  0.94,  0.58]), array([ 1.,  1.,  0.,  0.])),\n",
       " (array([ 0.5 ,  0.75,  0.69,  0.73,  0.58]), array([ 1.,  0.,  0.,  0.])),\n",
       " (array([ 0.67,  0.62,  0.69,  0.54,  0.93]), array([ 1.,  0.,  0.,  0.])),\n",
       " (array([ 0.82,  0.84,  0.91,  0.91,  0.95]), array([ 1.,  1.,  1.,  0.])),\n",
       " (array([ 0.51,  0.66,  0.6 ,  0.5 ,  0.61]), array([ 0.,  0.,  0.,  0.])),\n",
       " (array([ 1.  ,  0.86,  0.77,  0.8 ,  0.57]), array([ 1.,  1.,  0.,  0.])),\n",
       " (array([ 0.97,  0.9 ,  0.85,  0.86,  0.98]), array([ 1.,  1.,  1.,  1.])),\n",
       " (array([ 0.68,  0.56,  0.51,  0.51,  0.73]), array([ 0.,  0.,  0.,  0.])),\n",
       " (array([ 0.51,  0.59,  0.59,  0.54,  0.6 ]), array([ 0.,  0.,  0.,  0.])),\n",
       " (array([ 0.86,  0.85,  0.53,  0.58,  0.51]), array([ 1.,  0.,  0.,  0.])),\n",
       " (array([ 0.56,  0.64,  0.71,  0.62,  0.5 ]), array([ 1.,  0.,  0.,  0.])),\n",
       " (array([ 0.91,  0.83,  0.91,  0.83,  0.85]), array([ 1.,  1.,  1.,  0.])),\n",
       " (array([ 0.58,  0.89,  0.67,  1.  ,  0.62]), array([ 1.,  1.,  0.,  0.])),\n",
       " (array([ 0.86,  0.67,  0.81,  1.  ,  0.53]), array([ 1.,  1.,  0.,  0.])),\n",
       " (array([ 0.95,  0.99,  0.98,  0.92,  0.86]), array([ 1.,  1.,  1.,  1.])),\n",
       " (array([ 0.77,  0.84,  0.75,  0.93,  0.69]), array([ 1.,  1.,  0.,  0.])),\n",
       " (array([ 0.52,  0.53,  0.73,  0.6 ,  0.59]), array([ 0.,  0.,  0.,  0.])),\n",
       " (array([ 0.88,  0.81,  0.83,  0.9 ,  0.8 ]), array([ 1.,  1.,  1.,  0.])),\n",
       " (array([ 0.81,  0.83,  0.92,  0.84,  0.86]), array([ 1.,  1.,  1.,  0.])),\n",
       " (array([ 0.85,  0.9 ,  1.  ,  0.8 ,  0.86]), array([ 1.,  1.,  1.,  0.])),\n",
       " (array([ 0.94,  0.98,  0.89,  0.72,  0.52]), array([ 1.,  1.,  1.,  0.])),\n",
       " (array([ 0.55,  0.63,  0.55,  0.51,  0.58]), array([ 0.,  0.,  0.,  0.])),\n",
       " (array([ 0.53,  0.54,  0.64,  0.52,  0.61]), array([ 0.,  0.,  0.,  0.])),\n",
       " (array([ 0.65,  0.52,  0.54,  0.68,  0.54]), array([ 0.,  0.,  0.,  0.])),\n",
       " (array([ 0.93,  0.9 ,  0.96,  0.92,  0.83]), array([ 1.,  1.,  1.,  1.])),\n",
       " (array([ 0.7 ,  0.53,  0.64,  0.6 ,  0.75]), array([ 1.,  0.,  0.,  0.])),\n",
       " (array([ 0.85,  0.93,  0.81,  0.76,  0.72]), array([ 1.,  1.,  1.,  0.])),\n",
       " (array([ 0.6 ,  0.52,  0.61,  0.6 ,  0.66]), array([ 0.,  0.,  0.,  0.])),\n",
       " (array([ 0.61,  0.66,  0.57,  0.53,  0.59]), array([ 0.,  0.,  0.,  0.])),\n",
       " (array([ 0.89,  0.89,  0.86,  0.99,  0.95]), array([ 1.,  1.,  1.,  1.])),\n",
       " (array([ 0.63,  0.74,  0.66,  0.71,  0.75]), array([ 1.,  0.,  0.,  0.])),\n",
       " (array([ 0.92,  0.76,  0.9 ,  0.64,  0.5 ]), array([ 1.,  1.,  0.,  0.])),\n",
       " (array([ 0.8 ,  0.8 ,  0.98,  0.87,  0.81]), array([ 1.,  1.,  1.,  0.])),\n",
       " (array([ 0.62,  0.66,  0.73,  0.65,  0.66]), array([ 1.,  0.,  0.,  0.])),\n",
       " (array([ 0.9 ,  0.99,  0.8 ,  0.96,  0.95]), array([ 1.,  1.,  1.,  1.])),\n",
       " (array([ 0.6 ,  0.53,  0.52,  0.66,  0.6 ]), array([ 0.,  0.,  0.,  0.])),\n",
       " (array([ 0.57,  0.86,  0.83,  0.52,  0.97]), array([ 1.,  1.,  0.,  0.])),\n",
       " (array([ 0.59,  0.52,  0.57,  0.72,  0.64]), array([ 1.,  0.,  0.,  0.])),\n",
       " (array([ 0.74,  0.72,  0.65,  0.72,  0.72]), array([ 1.,  1.,  0.,  0.])),\n",
       " (array([ 0.96,  0.95,  0.99,  0.93,  0.98]), array([ 1.,  1.,  1.,  1.])),\n",
       " (array([ 0.64,  0.53,  0.73,  0.61,  0.74]), array([ 1.,  0.,  0.,  0.])),\n",
       " (array([ 0.6 ,  0.87,  0.99,  0.78,  0.96]), array([ 1.,  1.,  1.,  0.])),\n",
       " (array([ 0.5 ,  0.57,  0.56,  0.65,  0.71]), array([ 0.,  0.,  0.,  0.])),\n",
       " (array([ 0.68,  0.69,  0.57,  0.6 ,  0.51]), array([ 1.,  0.,  0.,  0.])),\n",
       " (array([ 0.85,  0.6 ,  0.96,  0.77,  0.67]), array([ 1.,  1.,  0.,  0.])),\n",
       " (array([ 1.  ,  0.84,  0.71,  0.88,  0.98]), array([ 1.,  1.,  1.,  0.])),\n",
       " (array([ 0.64,  0.66,  0.69,  0.73,  0.5 ]), array([ 1.,  0.,  0.,  0.])),\n",
       " (array([ 0.58,  0.6 ,  0.71,  0.59,  0.53]), array([ 1.,  0.,  0.,  0.])),\n",
       " (array([ 0.7 ,  0.53,  0.74,  0.52,  0.5 ]), array([ 0.,  0.,  0.,  0.])),\n",
       " (array([ 0.56,  0.54,  0.69,  0.67,  0.57]), array([ 1.,  0.,  0.,  0.])),\n",
       " (array([ 0.59,  0.66,  0.52,  0.7 ,  0.59]), array([ 1.,  0.,  0.,  0.])),\n",
       " (array([ 0.93,  0.8 ,  0.86,  0.94,  0.87]), array([ 1.,  1.,  1.,  0.])),\n",
       " (array([ 0.6 ,  0.71,  0.55,  0.68,  0.59]), array([ 1.,  0.,  0.,  0.])),\n",
       " (array([ 0.99,  0.91,  0.93,  0.89,  0.9 ]), array([ 1.,  1.,  1.,  1.])),\n",
       " (array([ 0.91,  0.67,  0.86,  0.98,  0.78]), array([ 1.,  1.,  1.,  0.])),\n",
       " (array([ 0.74,  0.61,  0.52,  0.65,  0.69]), array([ 1.,  0.,  0.,  0.])),\n",
       " (array([ 0.87,  0.54,  0.8 ,  0.51,  0.61]), array([ 1.,  0.,  0.,  0.])),\n",
       " (array([ 0.89,  0.88,  1.  ,  0.8 ,  0.93]), array([ 1.,  1.,  1.,  1.])),\n",
       " (array([ 0.94,  0.8 ,  0.89,  0.91,  0.87]), array([ 1.,  1.,  1.,  0.])),\n",
       " (array([ 0.95,  0.51,  0.61,  0.85,  0.93]), array([ 1.,  1.,  0.,  0.])),\n",
       " (array([ 0.58,  0.75,  0.5 ,  0.53,  0.88]), array([ 1.,  0.,  0.,  0.])),\n",
       " (array([ 0.86,  0.97,  0.93,  0.87,  0.83]), array([ 1.,  1.,  1.,  0.])),\n",
       " (array([ 0.9 ,  0.94,  0.83,  0.98,  0.88]), array([ 1.,  1.,  1.,  1.])),\n",
       " (array([ 0.93,  0.94,  0.95,  0.82,  0.91]), array([ 1.,  1.,  1.,  1.])),\n",
       " (array([ 0.66,  0.78,  0.6 ,  0.53,  0.67]), array([ 1.,  0.,  0.,  0.])),\n",
       " (array([ 0.52,  0.69,  0.5 ,  0.8 ,  0.64]), array([ 1.,  0.,  0.,  0.])),\n",
       " (array([ 0.55,  0.72,  0.56,  0.58,  0.72]), array([ 1.,  0.,  0.,  0.])),\n",
       " (array([ 0.69,  0.6 ,  0.65,  0.63,  0.53]), array([ 1.,  0.,  0.,  0.])),\n",
       " (array([ 0.64,  0.69,  0.51,  0.55,  0.55]), array([ 0.,  0.,  0.,  0.])),\n",
       " (array([ 0.51,  0.99,  0.64,  0.5 ,  0.79]), array([ 1.,  0.,  0.,  0.])),\n",
       " (array([ 0.65,  0.72,  0.52,  0.66,  0.57]), array([ 1.,  0.,  0.,  0.])),\n",
       " (array([ 0.96,  0.96,  0.76,  0.77,  0.74]), array([ 1.,  1.,  1.,  0.])),\n",
       " (array([ 0.67,  0.6 ,  0.72,  0.71,  0.67]), array([ 1.,  0.,  0.,  0.])),\n",
       " (array([ 0.95,  0.96,  0.83,  0.89,  0.8 ]), array([ 1.,  1.,  1.,  0.])),\n",
       " (array([ 0.92,  0.98,  0.95,  0.58,  1.  ]), array([ 1.,  1.,  1.,  0.])),\n",
       " (array([ 0.7 ,  0.98,  0.53,  0.87,  0.69]), array([ 1.,  1.,  0.,  0.])),\n",
       " (array([ 0.78,  0.51,  1.  ,  0.71,  0.69]), array([ 1.,  1.,  0.,  0.])),\n",
       " (array([ 0.95,  0.89,  0.88,  0.97,  0.89]), array([ 1.,  1.,  1.,  1.])),\n",
       " (array([ 0.55,  0.72,  0.63,  0.55,  0.64]), array([ 1.,  0.,  0.,  0.])),\n",
       " (array([ 0.92,  0.86,  0.94,  0.91,  1.  ]), array([ 1.,  1.,  1.,  1.])),\n",
       " (array([ 0.68,  0.83,  0.83,  0.8 ,  0.6 ]), array([ 1.,  1.,  0.,  0.])),\n",
       " (array([ 0.88,  0.99,  0.98,  0.97,  0.86]), array([ 1.,  1.,  1.,  1.])),\n",
       " (array([ 0.94,  0.86,  0.87,  0.96,  0.92]), array([ 1.,  1.,  1.,  1.])),\n",
       " (array([ 0.58,  0.51,  0.64,  0.62,  0.67]), array([ 1.,  0.,  0.,  0.])),\n",
       " (array([ 0.85,  0.8 ,  0.99,  0.96,  0.81]), array([ 1.,  1.,  1.,  0.])),\n",
       " (array([ 0.93,  0.61,  0.98,  0.77,  1.  ]), array([ 1.,  1.,  1.,  0.])),\n",
       " (array([ 0.83,  0.59,  0.51,  0.64,  0.64]), array([ 1.,  0.,  0.,  0.])),\n",
       " (array([ 0.86,  0.89,  0.97,  0.9 ,  0.94]), array([ 1.,  1.,  1.,  1.])),\n",
       " (array([ 0.83,  0.82,  0.55,  0.57,  0.75]), array([ 1.,  1.,  0.,  0.])),\n",
       " (array([ 0.83,  0.94,  0.89,  0.94,  0.91]), array([ 1.,  1.,  1.,  1.])),\n",
       " (array([ 0.58,  0.71,  0.56,  0.5 ,  0.67]), array([ 1.,  0.,  0.,  0.])),\n",
       " (array([ 1.  ,  0.99,  0.81,  0.87,  0.9 ]), array([ 1.,  1.,  1.,  1.])),\n",
       " (array([ 0.71,  0.64,  0.67,  0.61,  0.56]), array([ 1.,  0.,  0.,  0.])),\n",
       " (array([ 0.89,  0.96,  0.96,  0.98,  0.97]), array([ 1.,  1.,  1.,  1.])),\n",
       " (array([ 0.57,  0.6 ,  0.67,  0.7 ,  0.69]), array([ 1.,  0.,  0.,  0.])),\n",
       " (array([ 0.64,  0.63,  0.67,  0.77,  0.92]), array([ 1.,  1.,  0.,  0.])),\n",
       " (array([ 0.85,  0.71,  0.54,  1.  ,  0.78]), array([ 1.,  1.,  0.,  0.])),\n",
       " (array([ 0.57,  0.56,  0.68,  0.67,  0.63]), array([ 1.,  0.,  0.,  0.])),\n",
       " (array([ 0.96,  0.98,  0.82,  0.82,  0.81]), array([ 1.,  1.,  1.,  0.])),\n",
       " (array([ 0.61,  0.54,  0.59,  0.71,  0.55]), array([ 1.,  0.,  0.,  0.])),\n",
       " (array([ 0.87,  0.5 ,  0.54,  0.64,  0.85]), array([ 1.,  0.,  0.,  0.])),\n",
       " (array([ 0.56,  0.56,  0.95,  0.83,  0.85]), array([ 1.,  1.,  0.,  0.])),\n",
       " (array([ 0.82,  0.82,  0.9 ,  0.97,  0.84]), array([ 1.,  1.,  1.,  0.])),\n",
       " (array([ 0.89,  0.85,  1.  ,  0.97,  0.93]), array([ 1.,  1.,  1.,  1.])),\n",
       " (array([ 0.6 ,  0.5 ,  0.66,  0.55,  0.61]), array([ 0.,  0.,  0.,  0.])),\n",
       " (array([ 0.79,  0.68,  0.76,  0.59,  0.8 ]), array([ 1.,  1.,  0.,  0.])),\n",
       " (array([ 0.63,  0.7 ,  0.56,  0.68,  0.54]), array([ 1.,  0.,  0.,  0.])),\n",
       " (array([ 0.81,  0.98,  0.93,  1.  ,  0.85]), array([ 1.,  1.,  1.,  1.])),\n",
       " (array([ 0.95,  0.98,  0.86,  0.81,  0.89]), array([ 1.,  1.,  1.,  0.])),\n",
       " (array([ 0.55,  0.67,  0.61,  0.57,  0.68]), array([ 1.,  0.,  0.,  0.])),\n",
       " (array([ 0.91,  0.98,  0.91,  0.97,  0.87]), array([ 1.,  1.,  1.,  1.])),\n",
       " (array([ 0.93,  0.89,  0.85,  0.89,  0.91]), array([ 1.,  1.,  1.,  0.])),\n",
       " (array([ 0.81,  0.88,  0.64,  0.89,  0.78]), array([ 1.,  1.,  1.,  0.])),\n",
       " (array([ 0.72,  0.67,  0.73,  0.6 ,  0.84]), array([ 1.,  1.,  0.,  0.])),\n",
       " (array([ 0.57,  0.59,  0.72,  0.54,  0.66]), array([ 1.,  0.,  0.,  0.])),\n",
       " (array([ 0.53,  0.62,  0.58,  0.68,  0.81]), array([ 1.,  0.,  0.,  0.])),\n",
       " (array([ 0.59,  0.75,  0.58,  0.6 ,  0.71]), array([ 1.,  0.,  0.,  0.])),\n",
       " (array([ 0.82,  0.97,  0.86,  0.9 ,  0.8 ]), array([ 1.,  1.,  1.,  0.])),\n",
       " (array([ 0.71,  0.68,  0.59,  0.68,  0.54]), array([ 1.,  0.,  0.,  0.])),\n",
       " (array([ 0.72,  0.52,  0.52,  0.64,  0.75]), array([ 1.,  0.,  0.,  0.])),\n",
       " (array([ 0.91,  0.99,  0.83,  0.87,  0.94]), array([ 1.,  1.,  1.,  1.])),\n",
       " (array([ 1.  ,  0.64,  0.88,  0.72,  0.66]), array([ 1.,  1.,  0.,  0.])),\n",
       " (array([ 0.99,  0.8 ,  0.83,  0.86,  0.81]), array([ 1.,  1.,  1.,  0.])),\n",
       " (array([ 0.67,  0.53,  0.53,  0.54,  0.64]), array([ 0.,  0.,  0.,  0.])),\n",
       " (array([ 0.89,  0.83,  0.64,  0.98,  0.76]), array([ 1.,  1.,  1.,  0.])),\n",
       " (array([ 0.97,  0.94,  0.94,  0.86,  0.87]), array([ 1.,  1.,  1.,  1.])),\n",
       " (array([ 0.84,  0.73,  0.88,  0.68,  0.88]), array([ 1.,  1.,  1.,  0.])),\n",
       " (array([ 0.73,  0.95,  0.83,  0.84,  0.6 ]), array([ 1.,  1.,  0.,  0.])),\n",
       " (array([ 0.97,  0.91,  0.88,  0.93,  0.87]), array([ 1.,  1.,  1.,  1.])),\n",
       " (array([ 0.65,  0.55,  0.5 ,  0.61,  0.7 ]), array([ 1.,  0.,  0.,  0.])),\n",
       " (array([ 0.61,  0.74,  0.74,  0.99,  0.98]), array([ 1.,  1.,  1.,  0.])),\n",
       " (array([ 0.64,  0.68,  0.58,  0.5 ,  0.54]), array([ 0.,  0.,  0.,  0.])),\n",
       " (array([ 0.8 ,  0.81,  0.94,  1.  ,  0.82]), array([ 1.,  1.,  1.,  0.])),\n",
       " (array([ 0.68,  0.72,  0.97,  0.95,  0.56]), array([ 1.,  1.,  0.,  0.])),\n",
       " (array([ 0.6 ,  0.53,  0.59,  0.52,  0.7 ]), array([ 0.,  0.,  0.,  0.])),\n",
       " (array([ 0.5 ,  0.88,  0.65,  0.99,  0.75]), array([ 1.,  1.,  0.,  0.])),\n",
       " (array([ 0.73,  0.6 ,  0.62,  0.95,  0.55]), array([ 1.,  0.,  0.,  0.])),\n",
       " (array([ 0.77,  0.81,  0.55,  0.91,  0.65]), array([ 1.,  1.,  0.,  0.])),\n",
       " (array([ 0.65,  0.65,  0.55,  0.57,  0.55]), array([ 0.,  0.,  0.,  0.])),\n",
       " (array([ 0.97,  0.95,  0.98,  0.91,  0.9 ]), array([ 1.,  1.,  1.,  1.])),\n",
       " (array([ 0.76,  0.97,  0.97,  0.95,  0.64]), array([ 1.,  1.,  1.,  0.])),\n",
       " (array([ 0.53,  0.94,  0.6 ,  0.74,  0.72]), array([ 1.,  1.,  0.,  0.])),\n",
       " (array([ 0.69,  0.65,  0.51,  0.84,  0.55]), array([ 1.,  0.,  0.,  0.])),\n",
       " (array([ 0.92,  0.85,  0.94,  0.87,  0.96]), array([ 1.,  1.,  1.,  1.])),\n",
       " (array([ 0.92,  0.92,  0.94,  0.81,  0.86]), array([ 1.,  1.,  1.,  0.])),\n",
       " (array([ 0.61,  0.59,  0.64,  0.55,  0.59]), array([ 0.,  0.,  0.,  0.])),\n",
       " (array([ 0.68,  0.99,  0.61,  0.99,  0.51]), array([ 1.,  1.,  0.,  0.])),\n",
       " (array([ 0.84,  0.89,  0.86,  0.87,  0.99]), array([ 1.,  1.,  1.,  0.])),\n",
       " (array([ 0.59,  0.65,  0.67,  0.51,  0.67]), array([ 1.,  0.,  0.,  0.])),\n",
       " (array([ 0.56,  0.75,  0.5 ,  0.74,  0.58]), array([ 1.,  0.,  0.,  0.])),\n",
       " (array([ 0.57,  0.52,  0.59,  0.83,  0.57]), array([ 1.,  0.,  0.,  0.])),\n",
       " (array([ 0.91,  0.83,  0.89,  0.92,  0.99]), array([ 1.,  1.,  1.,  1.])),\n",
       " (array([ 0.5 ,  0.66,  0.51,  0.75,  0.64]), array([ 1.,  0.,  0.,  0.])),\n",
       " (array([ 0.82,  0.85,  0.92,  0.8 ,  0.93]), array([ 1.,  1.,  1.,  0.])),\n",
       " (array([ 0.69,  0.56,  0.85,  0.6 ,  0.74]), array([ 1.,  0.,  0.,  0.])),\n",
       " (array([ 0.81,  0.86,  0.84,  0.82,  0.99]), array([ 1.,  1.,  1.,  0.])),\n",
       " (array([ 0.86,  0.82,  0.97,  0.97,  0.69]), array([ 1.,  1.,  1.,  0.])),\n",
       " (array([ 0.83,  1.  ,  0.9 ,  1.  ,  0.84]), array([ 1.,  1.,  1.,  1.])),\n",
       " (array([ 0.66,  0.83,  0.84,  0.86,  0.89]), array([ 1.,  1.,  1.,  0.])),\n",
       " (array([ 0.61,  0.69,  0.94,  0.52,  0.79]), array([ 1.,  1.,  0.,  0.])),\n",
       " (array([ 0.9 ,  1.  ,  0.92,  0.87,  0.94]), array([ 1.,  1.,  1.,  1.])),\n",
       " (array([ 0.69,  0.62,  0.91,  0.54,  0.87]), array([ 1.,  1.,  0.,  0.])),\n",
       " (array([ 0.89,  0.95,  0.93,  0.72,  0.52]), array([ 1.,  1.,  1.,  0.])),\n",
       " (array([ 0.72,  0.51,  0.62,  0.68,  0.73]), array([ 1.,  0.,  0.,  0.])),\n",
       " (array([ 0.78,  0.81,  0.73,  0.56,  0.82]), array([ 1.,  1.,  0.,  0.])),\n",
       " (array([ 0.53,  0.63,  0.69,  0.73,  0.72]), array([ 1.,  0.,  0.,  0.])),\n",
       " (array([ 0.51,  0.68,  0.55,  0.63,  0.75]), array([ 1.,  0.,  0.,  0.])),\n",
       " (array([ 0.98,  0.7 ,  0.64,  0.64,  0.79]), array([ 1.,  1.,  0.,  0.])),\n",
       " (array([ 0.94,  0.89,  0.93,  0.82,  0.92]), array([ 1.,  1.,  1.,  1.])),\n",
       " (array([ 0.64,  0.69,  0.67,  0.66,  0.5 ]), array([ 1.,  0.,  0.,  0.])),\n",
       " (array([ 0.73,  0.6 ,  0.67,  0.57,  0.55]), array([ 1.,  0.,  0.,  0.])),\n",
       " (array([ 0.95,  0.95,  0.99,  0.95,  0.86]), array([ 1.,  1.,  1.,  1.])),\n",
       " (array([ 0.93,  0.86,  0.81,  0.8 ,  0.88]), array([ 1.,  1.,  1.,  0.])),\n",
       " (array([ 0.87,  0.87,  0.91,  0.93,  0.87]), array([ 1.,  1.,  1.,  0.])),\n",
       " (array([ 0.71,  0.55,  0.62,  0.99,  0.79]), array([ 1.,  1.,  0.,  0.])),\n",
       " (array([ 0.75,  0.77,  0.62,  0.69,  0.92]), array([ 1.,  1.,  0.,  0.])),\n",
       " (array([ 0.55,  0.72,  0.73,  0.56,  0.66]), array([ 1.,  0.,  0.,  0.])),\n",
       " (array([ 0.66,  0.74,  0.87,  0.53,  0.54]), array([ 1.,  0.,  0.,  0.])),\n",
       " (array([ 0.65,  0.57,  0.52,  0.73,  0.65]), array([ 1.,  0.,  0.,  0.])),\n",
       " (array([ 0.72,  0.54,  0.99,  0.77,  0.63]), array([ 1.,  1.,  0.,  0.])),\n",
       " (array([ 0.51,  0.6 ,  0.6 ,  0.54,  0.56]), array([ 0.,  0.,  0.,  0.])),\n",
       " (array([ 0.88,  0.97,  0.84,  0.85,  0.82]), array([ 1.,  1.,  1.,  0.])),\n",
       " (array([ 0.65,  0.63,  0.52,  0.74,  0.63]), array([ 1.,  0.,  0.,  0.])),\n",
       " (array([ 0.77,  0.62,  0.6 ,  0.77,  0.5 ]), array([ 1.,  0.,  0.,  0.])),\n",
       " (array([ 0.94,  0.96,  0.97,  0.91,  0.83]), array([ 1.,  1.,  1.,  1.])),\n",
       " (array([ 0.88,  0.88,  0.85,  0.98,  0.8 ]), array([ 1.,  1.,  1.,  0.])),\n",
       " (array([ 0.93,  0.82,  0.92,  0.98,  0.9 ]), array([ 1.,  1.,  1.,  1.])),\n",
       " (array([ 0.57,  0.53,  0.71,  0.5 ,  0.73]), array([ 1.,  0.,  0.,  0.])),\n",
       " (array([ 0.5 ,  0.56,  0.62,  0.67,  0.57]), array([ 0.,  0.,  0.,  0.])),\n",
       " (array([ 0.8 ,  0.99,  1.  ,  0.84,  0.99]), array([ 1.,  1.,  1.,  1.])),\n",
       " (array([ 0.89,  0.81,  0.87,  0.84,  0.96]), array([ 1.,  1.,  1.,  0.])),\n",
       " (array([ 0.55,  0.54,  0.68,  0.88,  0.77]), array([ 1.,  0.,  0.,  0.])),\n",
       " (array([ 0.57,  0.64,  0.61,  0.64,  0.75]), array([ 1.,  0.,  0.,  0.])),\n",
       " (array([ 0.81,  0.99,  0.89,  0.89,  0.94]), array([ 1.,  1.,  1.,  1.])),\n",
       " (array([ 0.92,  0.8 ,  0.98,  0.89,  0.92]), array([ 1.,  1.,  1.,  1.])),\n",
       " (array([ 0.68,  0.74,  0.54,  0.56,  0.5 ]), array([ 1.,  0.,  0.,  0.])),\n",
       " (array([ 0.96,  0.89,  0.87,  0.91,  0.83]), array([ 1.,  1.,  1.,  0.])),\n",
       " (array([ 0.82,  0.97,  0.86,  0.82,  0.94]), array([ 1.,  1.,  1.,  0.])),\n",
       " (array([ 0.72,  0.7 ,  0.65,  0.97,  0.87]), array([ 1.,  1.,  0.,  0.])),\n",
       " (array([ 1.  ,  0.89,  0.91,  0.84,  0.94]), array([ 1.,  1.,  1.,  1.])),\n",
       " (array([ 0.56,  0.66,  0.88,  0.82,  0.8 ]), array([ 1.,  1.,  0.,  0.])),\n",
       " (array([ 0.87,  0.94,  0.9 ,  0.84,  0.93]), array([ 1.,  1.,  1.,  0.])),\n",
       " (array([ 0.63,  0.73,  0.73,  0.66,  0.68]), array([ 1.,  0.,  0.,  0.])),\n",
       " (array([ 0.6 ,  0.63,  0.52,  0.64,  1.  ]), array([ 1.,  0.,  0.,  0.])),\n",
       " (array([ 0.66,  0.52,  0.54,  0.75,  0.69]), array([ 1.,  0.,  0.,  0.])),\n",
       " (array([ 0.6 ,  0.6 ,  0.6 ,  0.67,  0.73]), array([ 1.,  0.,  0.,  0.])),\n",
       " (array([ 0.67,  0.53,  0.6 ,  0.65,  0.69]), array([ 1.,  0.,  0.,  0.])),\n",
       " (array([ 0.64,  0.77,  1.  ,  0.52,  0.75]), array([ 1.,  1.,  0.,  0.])),\n",
       " (array([ 0.59,  0.66,  0.73,  0.62,  0.5 ]), array([ 1.,  0.,  0.,  0.])),\n",
       " (array([ 0.99,  0.98,  0.81,  0.86,  0.95]), array([ 1.,  1.,  1.,  1.])),\n",
       " (array([ 0.53,  0.73,  0.67,  0.5 ,  0.51]), array([ 0.,  0.,  0.,  0.])),\n",
       " (array([ 0.9 ,  0.83,  0.98,  0.66,  0.69]), array([ 1.,  1.,  1.,  0.])),\n",
       " (array([ 0.93,  0.84,  0.96,  0.84,  0.85]), array([ 1.,  1.,  1.,  0.])),\n",
       " (array([ 0.59,  1.  ,  0.76,  0.56,  0.68]), array([ 1.,  1.,  0.,  0.])),\n",
       " (array([ 0.85,  0.93,  0.88,  0.95,  0.83]), array([ 1.,  1.,  1.,  0.])),\n",
       " (array([ 0.52,  0.69,  0.65,  0.55,  0.63]), array([ 1.,  0.,  0.,  0.])),\n",
       " (array([ 0.89,  1.  ,  0.92,  0.99,  0.93]), array([ 1.,  1.,  1.,  1.])),\n",
       " (array([ 0.57,  0.65,  0.61,  0.7 ,  0.72]), array([ 1.,  0.,  0.,  0.])),\n",
       " (array([ 0.8 ,  0.92,  0.87,  0.94,  0.51]), array([ 1.,  1.,  1.,  0.])),\n",
       " (array([ 0.61,  0.56,  0.51,  0.65,  0.75]), array([ 1.,  0.,  0.,  0.])),\n",
       " (array([ 0.55,  0.7 ,  0.5 ,  0.71,  0.7 ]), array([ 1.,  0.,  0.,  0.])),\n",
       " (array([ 0.56,  0.58,  0.55,  0.63,  0.54]), array([ 0.,  0.,  0.,  0.])),\n",
       " (array([ 0.88,  0.5 ,  0.83,  0.86,  0.8 ]), array([ 1.,  1.,  0.,  0.])),\n",
       " (array([ 0.81,  0.53,  0.98,  0.54,  0.84]), array([ 1.,  1.,  0.,  0.])),\n",
       " (array([ 0.96,  0.94,  0.81,  0.93,  0.8 ]), array([ 1.,  1.,  1.,  0.])),\n",
       " (array([ 0.92,  0.98,  0.94,  0.86,  0.86]), array([ 1.,  1.,  1.,  1.])),\n",
       " (array([ 0.96,  1.  ,  0.96,  0.82,  0.83]), array([ 1.,  1.,  1.,  1.])),\n",
       " (array([ 0.82,  0.94,  0.88,  0.96,  0.9 ]), array([ 1.,  1.,  1.,  1.])),\n",
       " (array([ 1.  ,  0.82,  0.67,  0.75,  0.61]), array([ 1.,  1.,  0.,  0.])),\n",
       " (array([ 0.93,  0.56,  0.84,  0.63,  0.84]), array([ 1.,  1.,  0.,  0.])),\n",
       " (array([ 0.61,  0.61,  0.58,  0.59,  0.53]), array([ 0.,  0.,  0.,  0.])),\n",
       " (array([ 0.6 ,  0.81,  0.97,  0.83,  0.78]), array([ 1.,  1.,  0.,  0.])),\n",
       " (array([ 0.51,  0.62,  0.57,  0.74,  0.75]), array([ 1.,  0.,  0.,  0.])),\n",
       " (array([ 0.93,  0.84,  0.84,  0.87,  0.88]), array([ 1.,  1.,  1.,  0.])),\n",
       " (array([ 0.91,  0.88,  0.84,  0.87,  0.94]), array([ 1.,  1.,  1.,  0.])),\n",
       " (array([ 0.98,  0.85,  0.81,  0.97,  0.91]), array([ 1.,  1.,  1.,  1.])),\n",
       " (array([ 0.95,  0.82,  0.86,  0.81,  0.85]), array([ 1.,  1.,  1.,  0.])),\n",
       " (array([ 0.55,  0.54,  0.79,  0.55,  0.6 ]), array([ 1.,  0.,  0.,  0.])),\n",
       " (array([ 0.9 ,  0.85,  0.56,  0.51,  0.6 ]), array([ 1.,  0.,  0.,  0.])),\n",
       " (array([ 0.61,  0.65,  0.54,  0.62,  0.64]), array([ 1.,  0.,  0.,  0.])),\n",
       " (array([ 0.99,  0.83,  0.8 ,  0.91,  0.81]), array([ 1.,  1.,  1.,  0.])),\n",
       " (array([ 0.66,  0.67,  0.52,  0.73,  0.51]), array([ 1.,  0.,  0.,  0.])),\n",
       " (array([ 0.64,  0.53,  0.6 ,  0.73,  0.51]), array([ 1.,  0.,  0.,  0.])),\n",
       " (array([ 0.5 ,  0.58,  0.63,  0.75,  0.53]), array([ 0.,  0.,  0.,  0.])),\n",
       " (array([ 0.85,  0.52,  0.53,  0.57,  0.66]), array([ 1.,  0.,  0.,  0.])),\n",
       " (array([ 0.54,  0.6 ,  0.6 ,  0.61,  0.58]), array([ 0.,  0.,  0.,  0.])),\n",
       " (array([ 0.9 ,  0.98,  0.84,  0.94,  0.96]), array([ 1.,  1.,  1.,  1.])),\n",
       " (array([ 0.95,  0.92,  0.89,  0.81,  0.9 ]), array([ 1.,  1.,  1.,  0.])),\n",
       " (array([ 0.83,  0.66,  0.66,  0.55,  0.84]), array([ 1.,  1.,  0.,  0.]))]"
      ]
     },
     "execution_count": 7,
     "metadata": {},
     "output_type": "execute_result"
    }
   ],
   "source": [
    "nn.read_data_file('tests/grades_train.txt')"
   ]
  },
  {
   "cell_type": "code",
   "execution_count": null,
   "metadata": {
    "collapsed": true
   },
   "outputs": [],
   "source": []
  }
 ],
 "metadata": {
  "kernelspec": {
   "display_name": "Python 3",
   "language": "python",
   "name": "python3"
  },
  "language_info": {
   "codemirror_mode": {
    "name": "ipython",
    "version": 3
   },
   "file_extension": ".py",
   "mimetype": "text/x-python",
   "name": "python",
   "nbconvert_exporter": "python",
   "pygments_lexer": "ipython3",
   "version": "3.6.1"
  }
 },
 "nbformat": 4,
 "nbformat_minor": 2
}
