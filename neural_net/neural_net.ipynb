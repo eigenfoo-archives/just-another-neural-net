{
 "cells": [
  {
   "cell_type": "code",
   "execution_count": 1,
   "metadata": {
    "collapsed": true
   },
   "outputs": [],
   "source": [
    "import numpy as np\n",
    "import neural_net as nn"
   ]
  },
  {
   "cell_type": "code",
   "execution_count": 2,
   "metadata": {
    "collapsed": true
   },
   "outputs": [],
   "source": [
    "Ni, Nh, No, weights = nn.read_neural_net_file('tests/wdbc_init.txt')\n",
    "\n",
    "train_data = nn.read_data_file('tests/wdbc_train.txt')"
   ]
  },
  {
   "cell_type": "code",
   "execution_count": null,
   "metadata": {
    "collapsed": true
   },
   "outputs": [],
   "source": []
  },
  {
   "cell_type": "code",
   "execution_count": 3,
   "metadata": {
    "collapsed": true
   },
   "outputs": [],
   "source": [
    "learning_rate = 0.01"
   ]
  },
  {
   "cell_type": "code",
   "execution_count": 4,
   "metadata": {},
   "outputs": [],
   "source": [
    "update = [np.zeros(w.shape) for w in weights]\n",
    "for x, y in train_data:\n",
    "    # Propagate the inputs forward to compute the outputs\n",
    "    activation = x\n",
    "    activations = [x]\n",
    "    zs = []\n",
    "\n",
    "    for w in weights:\n",
    "        z = np.dot(w, np.insert(activation, 0, -1))\n",
    "        zs.append(z)\n",
    "        activation = nn.sigmoid(z)\n",
    "        activations.append(activation)\n",
    "\n",
    "    # Propagate deltas backward from output layer to input layer\n",
    "    delta = nn.sigmoid_prime(zs[-1]) * (y - activations[-1])\n",
    "    update[-1] = np.concatenate([delta, np.multiply(activations[1], delta)])\n",
    "\n",
    "    delta = nn.sigmoid_prime(zs[-2]) * (weights[-1][:, 1:].T @ delta)\n",
    "    update[-2] = np.insert(np.outer(delta, activations[0]), 0, delta, axis=1)\n",
    "\n",
    "    # Update every weight in network using deltas\n",
    "    weights = [w - (learning_rate)*up\n",
    "               for w, up in zip(weights, update)]"
   ]
  },
  {
   "cell_type": "code",
   "execution_count": 5,
   "metadata": {},
   "outputs": [
    {
     "data": {
      "text/plain": [
       "[array([[ 0.34496204,  0.20699585,  0.52299102,  0.73699688,  0.04500579,\n",
       "          0.85498035,  0.00300101,  0.4440101 ,  0.66201362,  0.80098126,\n",
       "          0.68997476,  0.12900199,  0.52198958,  0.96800154,  0.972003  ,\n",
       "          0.47598991,  0.43199811,  0.39800048,  0.83199973,  0.53498699,\n",
       "          0.20999629,  0.85699966,  0.92299274,  0.25700026,  0.43600715,\n",
       "          0.70798555,  0.92300373,  0.38501169,  0.42301444,  0.2909894 ,\n",
       "          0.65098652],\n",
       "        [ 0.56979444,  0.54294384,  0.83693229,  0.96394938,  0.88499607,\n",
       "          0.33488118,  0.20698306,  0.71102016,  0.55202638,  0.73689029,\n",
       "          0.18786684,  0.47499372,  0.70094665,  0.57899314,  0.20200371,\n",
       "          0.62794654,  0.70198198,  0.99399673,  0.21098334,  0.45193445,\n",
       "          0.54097928,  0.75896188,  0.57093678,  0.9699663 ,  0.36300553,\n",
       "          0.09690564,  0.98599628,  0.56702204,  0.61502128,  0.10293007,\n",
       "          0.6119205 ],\n",
       "        [ 0.74787049,  0.74000425,  0.49098107,  0.32400794,  0.02603817,\n",
       "          0.60494061,  0.5910184 ,  0.20505632,  0.45507561,  0.33993995,\n",
       "          0.72491296,  0.11501646,  0.85896367,  0.05501385,  0.89701727,\n",
       "          0.66196206,  0.0859981 ,  0.62500464,  0.8300074 ,  0.93695064,\n",
       "          0.31998737,  0.84801958,  0.38199055,  0.70402116,  0.6260427 ,\n",
       "          0.57196136,  0.24703098,  0.51606748,  0.74508628,  0.76097037,\n",
       "          0.22296098],\n",
       "        [ 0.97379071,  0.84094596,  0.78592984,  0.5599515 ,  0.50399949,\n",
       "          0.47388125,  0.89998356,  0.43502152,  0.90302938,  0.66788913,\n",
       "          0.78586398,  0.32499516,  0.15894072,  0.37099441,  0.2130051 ,\n",
       "          0.24394669,  0.88398264,  0.15899755,  0.09398602,  0.7699325 ,\n",
       "          0.95797935,  0.08796424,  0.1509343 ,  0.72696858,  0.65800872,\n",
       "          0.71290586,  0.80299587,  0.97202339,  0.8660248 ,  0.44392967,\n",
       "          0.01091809],\n",
       "        [ 0.14298906,  0.52100045,  0.2749984 ,  0.35300074,  0.43300342,\n",
       "          0.95999481,  0.21700122,  0.41200453,  0.68900609,  0.48899488,\n",
       "          0.31499251,  0.37600146,  0.59599706,  0.40300121,  0.17100154,\n",
       "          0.899997  ,  0.68499984,  0.81000043,  0.62600067,  0.57799604,\n",
       "          0.98199899,  0.27200168,  0.39899909,  0.66000179,  0.34000375,\n",
       "          0.29299644,  0.43100207,  0.79500523,  0.08200661,  0.61299733,\n",
       "          0.90599628]]),\n",
       " array([[ 0.9658524 ,  0.42894222,  0.8521066 ,  0.9190015 ,  0.66519246,\n",
       "          0.12291526]])]"
      ]
     },
     "execution_count": 5,
     "metadata": {},
     "output_type": "execute_result"
    }
   ],
   "source": [
    "weights"
   ]
  },
  {
   "cell_type": "code",
   "execution_count": null,
   "metadata": {
    "collapsed": true
   },
   "outputs": [],
   "source": []
  }
 ],
 "metadata": {
  "kernelspec": {
   "display_name": "Python 3",
   "language": "python",
   "name": "python3"
  },
  "language_info": {
   "codemirror_mode": {
    "name": "ipython",
    "version": 3
   },
   "file_extension": ".py",
   "mimetype": "text/x-python",
   "name": "python",
   "nbconvert_exporter": "python",
   "pygments_lexer": "ipython3",
   "version": "3.6.1"
  }
 },
 "nbformat": 4,
 "nbformat_minor": 2
}
