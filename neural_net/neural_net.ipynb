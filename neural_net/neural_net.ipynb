{
 "cells": [
  {
   "cell_type": "code",
   "execution_count": 1,
   "metadata": {
    "collapsed": true
   },
   "outputs": [],
   "source": [
    "import numpy as np\n",
    "import neural_net as nn"
   ]
  },
  {
   "cell_type": "code",
   "execution_count": 2,
   "metadata": {
    "collapsed": true
   },
   "outputs": [],
   "source": [
    "Ni, Nh, No, weights = nn.read_neural_net_file('tests/wdbc_init.txt')\n",
    "training_data = nn.read_data_file('tests/mini_train.txt')"
   ]
  },
  {
   "cell_type": "code",
   "execution_count": 3,
   "metadata": {
    "collapsed": true
   },
   "outputs": [],
   "source": [
    "epochs = 1\n",
    "learning_rate = 0.1"
   ]
  },
  {
   "cell_type": "code",
   "execution_count": 4,
   "metadata": {
    "collapsed": true
   },
   "outputs": [],
   "source": [
    "update = [np.zeros(w.shape) for w in weights]\n",
    "\n",
    "for _ in range(epochs):\n",
    "    for x, y in training_data:\n",
    "        # Propagate the inputs forward to compute the outputs\n",
    "        activation = x\n",
    "        activations = [x]\n",
    "        zs = []\n",
    "\n",
    "        for w in weights:\n",
    "            z = np.dot(w, np.insert(activation, 0, -1))\n",
    "            zs.append(z)\n",
    "            activation = nn.sigmoid(z)\n",
    "            activations.append(activation)\n",
    "\n",
    "        # Propagate deltas backward from output layer to input layer\n",
    "        delta = nn.sigmoid_prime(zs[-1]) * (y - activations[-1])\n",
    "        update[-1] = np.insert(np.multiply(delta, activations[1]), 0, -delta, axis=0)\n",
    "\n",
    "        delta = nn.sigmoid_prime(zs[-2]) * (weights[-1][:, 1:].T @ delta)\n",
    "        update[-2] = np.insert(np.outer(delta, activations[0]), 0, delta, axis=1)\n",
    "\n",
    "        # Update every weight in network using deltas\n",
    "        weights = [w + (learning_rate) * up\n",
    "                   for w, up in zip(weights, update)]"
   ]
  },
  {
   "cell_type": "code",
   "execution_count": 5,
   "metadata": {},
   "outputs": [
    {
     "data": {
      "text/plain": [
       "[array([[ 0.34499933,  0.20699956,  0.52299982,  0.73699956,  0.04499973,\n",
       "          0.85499944,  0.00299946,  0.44399953,  0.66199949,  0.80099947,\n",
       "          0.68999946,  0.12899971,  0.52199988,  0.96799969,  0.97199981,\n",
       "          0.47599986,  0.43199976,  0.39799991,  0.8319998 ,  0.53499975,\n",
       "          0.20999986,  0.85699953,  0.92299977,  0.25699951,  0.43599968,\n",
       "          0.70799951,  0.92299952,  0.3849995 ,  0.42299939,  0.29099954,\n",
       "          0.65099954],\n",
       "        [ 0.56999825,  0.54299885,  0.83699954,  0.96399885,  0.8849993 ,\n",
       "          0.33499854,  0.20699859,  0.71099876,  0.55199865,  0.7369986 ,\n",
       "          0.18799858,  0.47499925,  0.70099968,  0.57899919,  0.2019995 ,\n",
       "          0.62799964,  0.70199936,  0.99399976,  0.21099947,  0.45199933,\n",
       "          0.54099963,  0.75899876,  0.57099939,  0.96999871,  0.36299917,\n",
       "          0.09699872,  0.98599875,  0.5669987 ,  0.6149984 ,  0.10299878,\n",
       "          0.61199879],\n",
       "        [ 0.74799584,  0.73999727,  0.4909989 ,  0.32399727,  0.02599834,\n",
       "          0.60499655,  0.59099666,  0.20499707,  0.4549968 ,  0.33999669,\n",
       "          0.72499664,  0.11499821,  0.85899923,  0.05499808,  0.89699882,\n",
       "          0.66199914,  0.0859985 ,  0.62499943,  0.82999875,  0.93699842,\n",
       "          0.31999914,  0.84799707,  0.38199855,  0.70399695,  0.62599803,\n",
       "          0.57199697,  0.24699705,  0.51599692,  0.74499621,  0.76099712,\n",
       "          0.22299714],\n",
       "        [ 0.97399905,  0.84099938,  0.78599975,  0.55999938,  0.50399962,\n",
       "          0.47399921,  0.89999924,  0.43499933,  0.90299927,  0.66799925,\n",
       "          0.78599924,  0.32499959,  0.15899982,  0.37099956,  0.21299973,\n",
       "          0.24399981,  0.88399966,  0.15899987,  0.09399972,  0.76999964,\n",
       "          0.9579998 ,  0.08799933,  0.15099967,  0.7269993 ,  0.65799955,\n",
       "          0.71299931,  0.80299933,  0.9719993 ,  0.86599914,  0.44399934,\n",
       "          0.01099935],\n",
       "        [ 0.14299985,  0.5209999 ,  0.27499996,  0.3529999 ,  0.43299994,\n",
       "          0.95999988,  0.21699988,  0.4119999 ,  0.68899989,  0.48899988,\n",
       "          0.31499988,  0.37599994,  0.59599997,  0.40299993,  0.17099996,\n",
       "          0.89999997,  0.68499995,  0.80999998,  0.62599996,  0.57799994,\n",
       "          0.98199997,  0.2719999 ,  0.39899995,  0.65999989,  0.33999993,\n",
       "          0.29299989,  0.43099989,  0.79499989,  0.08199986,  0.6129999 ,\n",
       "          0.9059999 ]]),\n",
       " array([[ 0.89313009,  0.33387185,  0.7568722 ,  0.82387489,  0.56987154,\n",
       "          0.02787371]])]"
      ]
     },
     "execution_count": 5,
     "metadata": {},
     "output_type": "execute_result"
    }
   ],
   "source": [
    "weights"
   ]
  },
  {
   "cell_type": "code",
   "execution_count": null,
   "metadata": {
    "collapsed": true
   },
   "outputs": [],
   "source": []
  }
 ],
 "metadata": {
  "kernelspec": {
   "display_name": "Python 3",
   "language": "python",
   "name": "python3"
  },
  "language_info": {
   "codemirror_mode": {
    "name": "ipython",
    "version": 3
   },
   "file_extension": ".py",
   "mimetype": "text/x-python",
   "name": "python",
   "nbconvert_exporter": "python",
   "pygments_lexer": "ipython3",
   "version": "3.6.1"
  }
 },
 "nbformat": 4,
 "nbformat_minor": 2
}
