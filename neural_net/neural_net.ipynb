{
 "cells": [
  {
   "cell_type": "code",
   "execution_count": 1,
   "metadata": {
    "collapsed": true
   },
   "outputs": [],
   "source": [
    "import numpy as np\n",
    "import neural_net as nn"
   ]
  },
  {
   "cell_type": "code",
   "execution_count": 2,
   "metadata": {
    "collapsed": true
   },
   "outputs": [],
   "source": [
    "Ni, Nh, No, weights = nn.read_neural_net_file('tests/grades_init.txt')\n",
    "training_data = nn.read_data_file('tests/grades_train.txt')"
   ]
  },
  {
   "cell_type": "code",
   "execution_count": 3,
   "metadata": {
    "collapsed": true
   },
   "outputs": [],
   "source": [
    "learning_rate = 0.1\n",
    "epochs = 100"
   ]
  },
  {
   "cell_type": "code",
   "execution_count": 4,
   "metadata": {},
   "outputs": [],
   "source": [
    "for _ in range(epochs):\n",
    "    for x, y in training_data:\n",
    "        update = [np.zeros(w.shape) for w in weights]\n",
    "        \n",
    "        # Propagate the inputs forward to compute the outputs\n",
    "        activation = x\n",
    "        activations = [x]\n",
    "        zs = []\n",
    "\n",
    "        for w in weights:\n",
    "            z = np.dot(w, np.insert(activation, 0, -1))\n",
    "            zs.append(z)\n",
    "            activation = nn.sigmoid(z)\n",
    "            activations.append(activation)\n",
    "\n",
    "        # Propagate deltas backward from output layer to input layer\n",
    "        delta = nn.sigmoid_prime(zs[-1]) * (y - activations[-1])\n",
    "        #raise(Exception)\n",
    "        update[-1] = np.insert(np.outer(delta, activations[1]), 0, -delta, axis=1)\n",
    "        \n",
    "        delta = nn.sigmoid_prime(zs[-2]) * (weights[-1][:, 1:].T @ delta)\n",
    "        update[-2] = np.insert(np.outer(delta, activations[0]), 0, -delta, axis=1)\n",
    "\n",
    "        # Update every weight in network using deltas\n",
    "        weights = [w + (learning_rate) * up\n",
    "                   for w, up in zip(weights, update)]"
   ]
  },
  {
   "cell_type": "code",
   "execution_count": null,
   "metadata": {
    "collapsed": true
   },
   "outputs": [],
   "source": []
  }
 ],
 "metadata": {
  "kernelspec": {
   "display_name": "Python 3",
   "language": "python",
   "name": "python3"
  },
  "language_info": {
   "codemirror_mode": {
    "name": "ipython",
    "version": 3
   },
   "file_extension": ".py",
   "mimetype": "text/x-python",
   "name": "python",
   "nbconvert_exporter": "python",
   "pygments_lexer": "ipython3",
   "version": "3.6.1"
  }
 },
 "nbformat": 4,
 "nbformat_minor": 2
}
